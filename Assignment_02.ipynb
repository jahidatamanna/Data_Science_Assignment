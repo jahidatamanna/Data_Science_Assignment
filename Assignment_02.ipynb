{
 "cells": [
  {
   "cell_type": "markdown",
   "id": "bde4cfeb-b376-4aa2-bedd-cda213148542",
   "metadata": {},
   "source": [
    "<h3>Variables</h3>"
   ]
  },
  {
   "cell_type": "markdown",
   "id": "a221012a-fae0-48b0-ab33-47708c4bb5c5",
   "metadata": {
    "jp-MarkdownHeadingCollapsed": true
   },
   "source": [
    "<h4>1. Write a program that swaps the values of two variables.</h4>"
   ]
  },
  {
   "cell_type": "code",
   "execution_count": 21,
   "id": "8cef8409-0e6b-43da-bd12-d12e0ed74c0c",
   "metadata": {},
   "outputs": [
    {
     "name": "stdout",
     "output_type": "stream",
     "text": [
      "before swapping : \n",
      "x = 5\n",
      "y = 10\n",
      "after swapping : \n",
      "x = 10\n",
      "y = 5\n"
     ]
    }
   ],
   "source": [
    "# Before swapping\n",
    "x = 5\n",
    "y = 10\n",
    "print('before swapping : ')\n",
    "print('x =',x)\n",
    "print('y =',y)\n",
    "\n",
    "# Swapping the values\n",
    "x,y = y,x\n",
    "\n",
    "# After swapping\n",
    "print('after swapping : ')\n",
    "print('x =',x)\n",
    "print('y =',y)"
   ]
  },
  {
   "cell_type": "markdown",
   "id": "76e88949-17c8-4fc1-9503-29fc426ec17b",
   "metadata": {
    "jp-MarkdownHeadingCollapsed": true
   },
   "source": [
    "<h4>2. Write a program that calculates the area of a rectangle given its length and width.</h4>"
   ]
  },
  {
   "cell_type": "code",
   "execution_count": 33,
   "id": "6ff8f614-9b57-43b8-9beb-aef0ba0a07c4",
   "metadata": {},
   "outputs": [
    {
     "name": "stdin",
     "output_type": "stream",
     "text": [
      " 3\n",
      " 3\n"
     ]
    },
    {
     "name": "stdout",
     "output_type": "stream",
     "text": [
      "The area of a rectangle is :  9\n"
     ]
    }
   ],
   "source": [
    "length=int(input())\n",
    "width=int(input())\n",
    "area=length*width\n",
    "print(\"The area of a rectangle is : \",area)"
   ]
  },
  {
   "cell_type": "markdown",
   "id": "6bb68ef0-e52b-4bb4-92b1-82a3e689bed0",
   "metadata": {
    "jp-MarkdownHeadingCollapsed": true
   },
   "source": [
    "<h4>3. Write a program that converts temperature from Fahrenheit to Celsius.</h4>"
   ]
  },
  {
   "cell_type": "code",
   "execution_count": 27,
   "id": "9f0bc717-1466-4b1d-a3fa-ce6f6768c942",
   "metadata": {},
   "outputs": [
    {
     "name": "stdin",
     "output_type": "stream",
     "text": [
      "Enter the value of Fahrenheit scale :  34\n"
     ]
    },
    {
     "name": "stdout",
     "output_type": "stream",
     "text": [
      "Converts the temperature from Fahrenheit to Celsius 1.1111111111111112\n"
     ]
    }
   ],
   "source": [
    "F = int(input(\"Enter the value of Fahrenheit scale : \"))\n",
    "C = (5/9)*(F-32)\n",
    "print('Converts the temperature from Fahrenheit to Celsius',C)\n"
   ]
  },
  {
   "cell_type": "markdown",
   "id": "bebf3756-4ee6-4d1c-af39-1e368fe0c053",
   "metadata": {
    "jp-MarkdownHeadingCollapsed": true
   },
   "source": [
    "<h4>4. Write a program that calculates the volume of a sphere given its radius.</h4>"
   ]
  },
  {
   "cell_type": "code",
   "execution_count": 34,
   "id": "e6dd7961-edcb-4490-a95c-f8e97c6a3c2b",
   "metadata": {},
   "outputs": [
    {
     "name": "stdin",
     "output_type": "stream",
     "text": [
      "The radius of the sphere is :  22\n"
     ]
    },
    {
     "name": "stdout",
     "output_type": "stream",
     "text": [
      "The volume of a sphere is :  44602.342399999994\n"
     ]
    }
   ],
   "source": [
    "r=int(input(\"The radius of the sphere is : \"))\n",
    "v=(4/3)*(3.1416)*(r*r*r)\n",
    "print(\"The volume of a sphere is : \",v)\n"
   ]
  },
  {
   "cell_type": "markdown",
   "id": "cf65ade3-e2d2-4c9e-9ec9-b4ebc96e69c3",
   "metadata": {
    "jp-MarkdownHeadingCollapsed": true
   },
   "source": [
    "<h4>5. Write a program that finds the average of three numbers.</h4>"
   ]
  },
  {
   "cell_type": "code",
   "execution_count": 36,
   "id": "e78026b8-1e97-4229-9861-9463a3edc125",
   "metadata": {},
   "outputs": [
    {
     "name": "stdin",
     "output_type": "stream",
     "text": [
      "enter first number :  2\n",
      "enter second number :  3\n",
      "enter third number :  4\n"
     ]
    },
    {
     "name": "stdout",
     "output_type": "stream",
     "text": [
      "the average of three numbers is 3.0\n"
     ]
    }
   ],
   "source": [
    "a=int(input(\"enter first number : \"))\n",
    "b=int(input(\"enter second number : \"))\n",
    "c=int(input(\"enter third number : \"))\n",
    "average=(a+b+c)/3\n",
    "print(\"the average of three numbers is\",average)"
   ]
  },
  {
   "cell_type": "markdown",
   "id": "27646c4c-37ee-4d18-bb72-1f5458ae9e2a",
   "metadata": {},
   "source": [
    " <h3>If-elif-else</h3>"
   ]
  },
  {
   "cell_type": "markdown",
   "id": "419d6bbb-c915-49de-a102-030ed2091c9d",
   "metadata": {
    "jp-MarkdownHeadingCollapsed": true
   },
   "source": [
    "<h4>6. Write a program that determines if a number is even or odd.</h4>"
   ]
  },
  {
   "cell_type": "code",
   "execution_count": 63,
   "id": "2910f0d6-0ad3-4371-8a1a-4b2d1117df0f",
   "metadata": {},
   "outputs": [
    {
     "name": "stdin",
     "output_type": "stream",
     "text": [
      "enter a number :  4\n"
     ]
    },
    {
     "name": "stdout",
     "output_type": "stream",
     "text": [
      "4  is  a even number\n"
     ]
    }
   ],
   "source": [
    "num = int(input(\"enter a number : \"))\n",
    "\n",
    "if num % 2 == 0:\n",
    "    print(num,\" is  a even number\")\n",
    "else:\n",
    "    print(num,\"is a odd number\")"
   ]
  },
  {
   "cell_type": "markdown",
   "id": "56324fd0-3e8e-4062-8af2-e6c358bb85c7",
   "metadata": {
    "jp-MarkdownHeadingCollapsed": true
   },
   "source": [
    "<h4>7. Write a program that finds the maximum of three numbers.</h4>"
   ]
  },
  {
   "cell_type": "code",
   "execution_count": 98,
   "id": "e6fad0c3-0bd4-47d6-a2e6-0ad2ee39fe85",
   "metadata": {},
   "outputs": [
    {
     "name": "stdin",
     "output_type": "stream",
     "text": [
      "Enter num1:  12\n",
      "Enter num2:  13\n",
      "Enter num3:  16\n"
     ]
    },
    {
     "name": "stdout",
     "output_type": "stream",
     "text": [
      "The maximum number is: 16.0\n"
     ]
    }
   ],
   "source": [
    "num1 = float(input(\"Enter num1: \"))\n",
    "num2 = float(input(\"Enter num2: \"))\n",
    "num3 = float(input(\"Enter num3: \"))\n",
    "\n",
    "if num1 >= num2 and num1 >= num3:\n",
    "     print(\"The maximum number is:\",num1)\n",
    "elif num2 >= num1 and num2 >= num3:\n",
    "    print(\"The maximum number is:\",num2)\n",
    "else:\n",
    "    print(\"The maximum number is:\",num3)\n",
    "\n",
    "\n"
   ]
  },
  {
   "cell_type": "markdown",
   "id": "d317eda9-b736-4109-8e0f-1ad5f48be3d8",
   "metadata": {
    "jp-MarkdownHeadingCollapsed": true
   },
   "source": [
    "<h4>8. Write a program that determines if a year is a leap year or not.</h4>\n"
   ]
  },
  {
   "cell_type": "code",
   "execution_count": 107,
   "id": "6f85f750-ab9e-47dd-a555-e25255b728c7",
   "metadata": {},
   "outputs": [
    {
     "name": "stdin",
     "output_type": "stream",
     "text": [
      "enter a year :  1900\n"
     ]
    },
    {
     "name": "stdout",
     "output_type": "stream",
     "text": [
      "This yesr is not  a leap year :  1900\n"
     ]
    }
   ],
   "source": [
    "year = int(input(\"enter a year : \"))\n",
    "\n",
    "if(year % 4 == 0 and year % 100 != 0) or (year % 400 == 0): # this is leap year calculation law\n",
    "    print(\"This yesr is a leap year : \",year)\n",
    "else:\n",
    "    print(\"This yesr is not  a leap year : \",year)"
   ]
  },
  {
   "cell_type": "markdown",
   "id": "c68b234b-1216-43d5-b98d-1a6da8b5c8bf",
   "metadata": {
    "jp-MarkdownHeadingCollapsed": true
   },
   "source": [
    "<h4>9. Write a program that determines if a number is positive, negative, or zero.</h4>"
   ]
  },
  {
   "cell_type": "code",
   "execution_count": 116,
   "id": "41747faa-b4c5-4577-ade6-55ad0a4da172",
   "metadata": {},
   "outputs": [
    {
     "name": "stdin",
     "output_type": "stream",
     "text": [
      "enter a number :  9\n"
     ]
    },
    {
     "name": "stdout",
     "output_type": "stream",
     "text": [
      "positive\n"
     ]
    }
   ],
   "source": [
    "num = float(input(\"enter a number : \"))\n",
    "if num>1:\n",
    "    print(\"positive\")\n",
    "elif num == 0:\n",
    "    print(\"zero\")\n",
    "else:\n",
    "    print(\"nrgative\")"
   ]
  },
  {
   "cell_type": "markdown",
   "id": "adc0eaea-0436-496a-8b90-86339e5978f1",
   "metadata": {
    "jp-MarkdownHeadingCollapsed": true
   },
   "source": [
    "<h4>10. Write a program that calculates the grade based on a given percentage.</h4>"
   ]
  },
  {
   "cell_type": "code",
   "execution_count": 134,
   "id": "bf93f6f6-ff19-4958-b75f-a7526373f8d6",
   "metadata": {},
   "outputs": [
    {
     "name": "stdin",
     "output_type": "stream",
     "text": [
      "enter the number :  122\n"
     ]
    },
    {
     "name": "stdout",
     "output_type": "stream",
     "text": [
      "The grade for 122.0 % is: A+\n"
     ]
    }
   ],
   "source": [
    "num = float(input(\"enter the number : \"))\n",
    "\n",
    "if num>89:\n",
    "    grade='A+'\n",
    "elif num>79:\n",
    "     grade='A'\n",
    "elif num>69:\n",
    "     grade='A-'\n",
    "elif num>59:\n",
    "     grade='B'\n",
    "elif num>49:\n",
    "     grade='C'\n",
    "elif num>39:\n",
    "     grade='D'\n",
    "elif num>32:\n",
    "     grade='E'\n",
    "else:\n",
    "    grade='F'\n",
    "print(\"The grade for\", num, \"% is:\", grade)\n"
   ]
  },
  {
   "cell_type": "markdown",
   "id": "b2924b30-5a4c-46eb-a63c-b94ace9244fe",
   "metadata": {},
   "source": [
    "<h3>For Loop</h3>"
   ]
  },
  {
   "cell_type": "markdown",
   "id": "2fc0cd5a-d4c5-4f90-befc-c4e90f20162e",
   "metadata": {
    "jp-MarkdownHeadingCollapsed": true
   },
   "source": [
    "<h4>11. Write a program that prints the first `n` natural numbers.</h4>"
   ]
  },
  {
   "cell_type": "code",
   "execution_count": 147,
   "id": "8c331716-bc50-48c0-a2aa-d7fbc6221d92",
   "metadata": {},
   "outputs": [
    {
     "name": "stdin",
     "output_type": "stream",
     "text": [
      "Enter the value of n:  5\n"
     ]
    },
    {
     "name": "stdout",
     "output_type": "stream",
     "text": [
      "The first 5 natural numbers are:\n",
      "1\n",
      "2\n",
      "3\n",
      "4\n",
      "5\n"
     ]
    }
   ],
   "source": [
    "n = int(input(\"Enter the value of n: \"))\n",
    "print(\"The first\", n, \"natural numbers are:\")\n",
    "for x in range(1, n+1 ):\n",
    "    print(x)\n"
   ]
  },
  {
   "cell_type": "markdown",
   "id": "bc84c54c-11df-4fc3-ab52-3ec1f847ec60",
   "metadata": {
    "jp-MarkdownHeadingCollapsed": true
   },
   "source": [
    "<h4>12. Write a program that calculates the factorial of a number.</h4>"
   ]
  },
  {
   "cell_type": "code",
   "execution_count": 167,
   "id": "8c68c1e9-f81f-4b90-8c33-b72a357a369e",
   "metadata": {},
   "outputs": [
    {
     "name": "stdin",
     "output_type": "stream",
     "text": [
      "Enter the number:  6\n"
     ]
    },
    {
     "name": "stdout",
     "output_type": "stream",
     "text": [
      "Factorial of 6 is: 720\n"
     ]
    }
   ],
   "source": [
    "num = int(input(\"Enter the number: \"))\n",
    "fact = 1\n",
    "for x in range(1, num + 1):\n",
    "    fact=fact*x\n",
    "print(\"Factorial of\", num, \"is:\", fact)\n"
   ]
  },
  {
   "cell_type": "markdown",
   "id": "1f7bf88d-72e8-41fe-9598-ffa5245db28c",
   "metadata": {
    "jp-MarkdownHeadingCollapsed": true
   },
   "source": [
    "<h4>13. Write a program that generates a Fibonacci sequence of length `n`.</h4>"
   ]
  },
  {
   "cell_type": "code",
   "execution_count": 181,
   "id": "3bfed25c-3175-454d-b2dd-06a06a8cc576",
   "metadata": {},
   "outputs": [
    {
     "name": "stdin",
     "output_type": "stream",
     "text": [
      "Enter the number:  8\n"
     ]
    },
    {
     "name": "stdout",
     "output_type": "stream",
     "text": [
      "0\n",
      "1\n",
      "1\n",
      "2\n",
      "3\n",
      "5\n",
      "8\n",
      "13\n"
     ]
    }
   ],
   "source": [
    "n = int(input(\"Enter the number: \"))\n",
    "if n >= 1:\n",
    "    print(0)\n",
    "if n >= 2:\n",
    "    print(1)\n",
    "first = 0\n",
    "second = 1\n",
    "for x in range(3, n + 1):\n",
    "    fibo = first + second\n",
    "    print(fibo)\n",
    "    first = second\n",
    "    second = fibo\n"
   ]
  },
  {
   "cell_type": "markdown",
   "id": "1fa9c03c-80dc-484a-86fd-d8ee65553184",
   "metadata": {
    "jp-MarkdownHeadingCollapsed": true
   },
   "source": [
    "<h4>14. Write a program that checks if a given number is prime or not.</h4>"
   ]
  },
  {
   "cell_type": "code",
   "execution_count": 196,
   "id": "de7618a7-142d-4dcc-94e5-81001284f7d5",
   "metadata": {},
   "outputs": [
    {
     "name": "stdin",
     "output_type": "stream",
     "text": [
      "Enter a number:  5\n"
     ]
    },
    {
     "name": "stdout",
     "output_type": "stream",
     "text": [
      "5 is not a prime number.\n"
     ]
    }
   ],
   "source": [
    "num = int(input(\"Enter a number: \"))\n",
    "# Prime numbers are greater than 1\n",
    "if num > 1:\n",
    "    for i in range(2, num + 1):\n",
    "        if num % i == 0:\n",
    "            print(num, \"is not a prime number.\")\n",
    "            break\n",
    "    else:\n",
    "        print(num, \"is a prime number.\")\n",
    "else:\n",
    "    print(num, \"is not a prime number.\")\n",
    "\n"
   ]
  },
  {
   "cell_type": "markdown",
   "id": "ae8c98f3-240e-4756-8f7e-35776489d00d",
   "metadata": {
    "jp-MarkdownHeadingCollapsed": true
   },
   "source": [
    "<h4>15. Write a program that prints the multiplication table of a given number.</h4>"
   ]
  },
  {
   "cell_type": "code",
   "execution_count": 206,
   "id": "fbe83c92-9342-43a2-9e15-6cb1a676a343",
   "metadata": {},
   "outputs": [
    {
     "name": "stdin",
     "output_type": "stream",
     "text": [
      "Enter the number :  4\n"
     ]
    },
    {
     "name": "stdout",
     "output_type": "stream",
     "text": [
      "The multiplication table of a given number is :\n",
      "4 * 1 = 4\n",
      "4 * 2 = 8\n",
      "4 * 3 = 12\n",
      "4 * 4 = 16\n",
      "4 * 5 = 20\n",
      "4 * 6 = 24\n",
      "4 * 7 = 28\n",
      "4 * 8 = 32\n",
      "4 * 9 = 36\n",
      "4 * 10 = 40\n"
     ]
    }
   ],
   "source": [
    "num=int(input(\"Enter the number : \"))\n",
    "print(\"The multiplication table of a given number is :\")\n",
    "for x in range(1,11):\n",
    "    print(num,\"*\",x,\"=\",num*x)"
   ]
  },
  {
   "cell_type": "markdown",
   "id": "c61dfc5e-f9ef-4381-8fbc-c9675b17656a",
   "metadata": {},
   "source": [
    "<h3>While Loop</h3>"
   ]
  },
  {
   "cell_type": "markdown",
   "id": "af7680cd-196b-41e4-a37f-4dc941ea72ec",
   "metadata": {
    "jp-MarkdownHeadingCollapsed": true
   },
   "source": [
    "<h4>16. Write a program that finds the sum of all even numbers between 1 and `n`.</h4>"
   ]
  },
  {
   "cell_type": "code",
   "execution_count": 212,
   "id": "44bae837-73f9-4e8e-98de-34e5b5735628",
   "metadata": {},
   "outputs": [
    {
     "name": "stdin",
     "output_type": "stream",
     "text": [
      "Enter a number : 5\n"
     ]
    },
    {
     "name": "stdout",
     "output_type": "stream",
     "text": [
      "1\n",
      "2\n",
      "3\n",
      "4\n",
      "5\n",
      "Sum of numbers from 1 to 5 is: 15\n"
     ]
    }
   ],
   "source": [
    "n=int(input(\"Enter a number :\"))\n",
    "i=1\n",
    "sum=0\n",
    "while(i<=n):\n",
    "    print(i)\n",
    "    sum=sum+i\n",
    "    i=i+1\n",
    "print(\"Sum of numbers from 1 to\", n, \"is:\", sum)"
   ]
  },
  {
   "cell_type": "markdown",
   "id": "0e63277e-049e-4b97-ba3a-a7996e82e519",
   "metadata": {
    "jp-MarkdownHeadingCollapsed": true
   },
   "source": [
    "<h4>17. Write a program that reverses a given number.</h4>"
   ]
  },
  {
   "cell_type": "code",
   "execution_count": 222,
   "id": "4dcf727f-cf0f-4dd4-a795-a2380a8403d3",
   "metadata": {},
   "outputs": [
    {
     "name": "stdin",
     "output_type": "stream",
     "text": [
      "Enter a number:  12\n"
     ]
    },
    {
     "name": "stdout",
     "output_type": "stream",
     "text": [
      "The reverse of 12 is: 21\n"
     ]
    }
   ],
   "source": [
    "num = int(input(\"Enter a number: \"))\n",
    "sum = 0\n",
    "temp = num\n",
    "\n",
    "while temp != 0:\n",
    "    r = temp % 10\n",
    "    sum = sum * 10 + r\n",
    "    temp = temp // 10 # //=division\n",
    "\n",
    "print(\"The reverse of\", num, \"is:\", sum)\n"
   ]
  },
  {
   "cell_type": "markdown",
   "id": "36d4f847-6653-4034-ad4d-0f6f92fd13f8",
   "metadata": {
    "jp-MarkdownHeadingCollapsed": true
   },
   "source": [
    "<h4>18. Write a program that checks if a given string, is a palindrome.</h4>"
   ]
  },
  {
   "cell_type": "code",
   "execution_count": 8,
   "id": "8ed0008e-7f53-4082-83a8-d6fb64700105",
   "metadata": {},
   "outputs": [
    {
     "name": "stdin",
     "output_type": "stream",
     "text": [
      "Enter a string:  5\n"
     ]
    },
    {
     "name": "stdout",
     "output_type": "stream",
     "text": [
      "The string is a palindrome.\n"
     ]
    }
   ],
   "source": [
    "\n",
    "string = input(\"Enter a string: \")\n",
    "string = string.lower()\n",
    "start = 0\n",
    "end = len(string) - 1\n",
    "while start < end:\n",
    "    while not string[start].isalnum() and start < end:\n",
    "        start += 1\n",
    "    while not string[end].isalnum() and start < end:\n",
    "        end -= 1\n",
    "        \n",
    "    if string[start] != string[end]:\n",
    "        print(\"The string is not a palindrome.\")\n",
    "        break\n",
    "    \n",
    "    start += 1\n",
    "    end -= 1\n",
    "else:\n",
    "    print(\"The string is a palindrome.\")\n"
   ]
  },
  {
   "cell_type": "markdown",
   "id": "95ff7f90-5664-4d7a-9a64-ba0bb21fd841",
   "metadata": {
    "jp-MarkdownHeadingCollapsed": true
   },
   "source": [
    "<h4>19. Write a program that generates a random number and allows the user to guess it.</h4>"
   ]
  },
  {
   "cell_type": "code",
   "execution_count": 6,
   "id": "299dfdfc-62b6-413f-9522-305ac345b134",
   "metadata": {},
   "outputs": [
    {
     "name": "stdout",
     "output_type": "stream",
     "text": [
      "Welcome to the Guess the Number Game!\n",
      "I have chosen a number between 1 and 50. Try to guess it.\n"
     ]
    },
    {
     "name": "stdin",
     "output_type": "stream",
     "text": [
      "Enter your guess:  23\n"
     ]
    },
    {
     "name": "stdout",
     "output_type": "stream",
     "text": [
      "Too low! Try again.\n"
     ]
    },
    {
     "name": "stdin",
     "output_type": "stream",
     "text": [
      "Enter your guess:  44\n"
     ]
    },
    {
     "name": "stdout",
     "output_type": "stream",
     "text": [
      "Too low! Try again.\n"
     ]
    },
    {
     "name": "stdin",
     "output_type": "stream",
     "text": [
      "Enter your guess:  47\n"
     ]
    },
    {
     "name": "stdout",
     "output_type": "stream",
     "text": [
      "Too high! Try again.\n"
     ]
    },
    {
     "name": "stdin",
     "output_type": "stream",
     "text": [
      "Enter your guess:  46\n"
     ]
    },
    {
     "name": "stdout",
     "output_type": "stream",
     "text": [
      "Too high! Try again.\n"
     ]
    },
    {
     "name": "stdin",
     "output_type": "stream",
     "text": [
      "Enter your guess:  45\n"
     ]
    },
    {
     "name": "stdout",
     "output_type": "stream",
     "text": [
      "Congratulations! You've guessed the number correctly.\n"
     ]
    }
   ],
   "source": [
    "import random\n",
    "random_number = random.randint(1, 50)\n",
    "print(\"Welcome to the Guess the Number Game!\")\n",
    "print(\"I have chosen a number between 1 and 50. Try to guess it.\")\n",
    "guess = 0\n",
    "while guess != random_number:\n",
    "    guess = int(input(\"Enter your guess: \"))\n",
    "    if guess < random_number:\n",
    "        print(\"Too low! Try again.\")\n",
    "    elif guess > random_number:\n",
    "        print(\"Too high! Try again.\")\n",
    "    else:\n",
    "        print(\"Congratulations! You've guessed the number correctly.\")\n",
    "\n"
   ]
  },
  {
   "cell_type": "markdown",
   "id": "6df727ae-c5bc-4d92-b54d-bd916c368e0f",
   "metadata": {
    "jp-MarkdownHeadingCollapsed": true
   },
   "source": [
    "<h4>20. Write a program that finds the greatest common divisor (GCD) of two numbers.</h4>"
   ]
  },
  {
   "cell_type": "code",
   "execution_count": 3,
   "id": "cbcfca26-3d24-4eeb-b24d-a7e20a4454ee",
   "metadata": {},
   "outputs": [
    {
     "name": "stdin",
     "output_type": "stream",
     "text": [
      "Enter first number:  7\n",
      "Enter second number:  6\n"
     ]
    },
    {
     "name": "stdout",
     "output_type": "stream",
     "text": [
      "The greatest common divisor is: 1\n"
     ]
    }
   ],
   "source": [
    "num1 = int(input(\"Enter first number: \"))\n",
    "num2 = int(input(\"Enter second number: \"))\n",
    "\n",
    "if num1 < num2:\n",
    "    num1, num2 = num2, num1\n",
    "\n",
    "while num2 != 0:\n",
    "    temp = num2\n",
    "    num2 = num1 % num2\n",
    "    num1 = temp\n",
    "\n",
    "print(\"The greatest common divisor is:\", num1)\n"
   ]
  }
 ],
 "metadata": {
  "kernelspec": {
   "display_name": "Python 3 (ipykernel)",
   "language": "python",
   "name": "python3"
  },
  "language_info": {
   "codemirror_mode": {
    "name": "ipython",
    "version": 3
   },
   "file_extension": ".py",
   "mimetype": "text/x-python",
   "name": "python",
   "nbconvert_exporter": "python",
   "pygments_lexer": "ipython3",
   "version": "3.11.7"
  }
 },
 "nbformat": 4,
 "nbformat_minor": 5
}
